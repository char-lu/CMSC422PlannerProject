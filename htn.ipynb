{
 "cells": [
  {
   "cell_type": "code",
   "execution_count": null,
   "id": "065eb12d",
   "metadata": {
    "scrolled": true
   },
   "outputs": [],
   "source": [
    "pip install pddlpy"
   ]
  },
  {
   "cell_type": "code",
   "execution_count": null,
   "id": "7c8a3fc5",
   "metadata": {},
   "outputs": [],
   "source": [
    "! git clone https://github.com/dananau/GTPyhop"
   ]
  },
  {
   "cell_type": "markdown",
   "id": "f1061cad",
   "metadata": {},
   "source": [
    "# Creating single problem \n",
    "#### After putting all 10 problems in problem.pddl. Use the below section to split it into 10 different files so that we can run the HTN planner. "
   ]
  },
  {
   "cell_type": "code",
   "execution_count": 40,
   "id": "6d311f32",
   "metadata": {},
   "outputs": [],
   "source": [
    "f = open(\"problem.pddl\")\n",
    "\n",
    "s =  [\"\\n\\n\"+e for e in f.read().split(\"\\n\\n\") if e]\n",
    "f.close()\n",
    "for i in range(len(s)):\n",
    "    f = open(\"problems/21/problem\" + str(i+1) + \".pddl\", \"w+\")\n",
    "    f.write(s[i])\n",
    "    f.close()\n"
   ]
  },
  {
   "cell_type": "code",
   "execution_count": 1,
   "id": "9855b19d",
   "metadata": {},
   "outputs": [],
   "source": [
    "import pddlpy\n",
    "domprob = pddlpy.DomainProblem('domain.pddl', 'problem.pddl')"
   ]
  },
  {
   "cell_type": "code",
   "execution_count": 2,
   "id": "5a92e1ed",
   "metadata": {},
   "outputs": [
    {
     "name": "stdout",
     "output_type": "stream",
     "text": [
      "\n",
      "Imported GTPyhop version 1.0.\n",
      "Messages from find_plan will be prefaced with 'FP>'.\n",
      "Messages from run_lazy_lookahead will be prefaced with 'RLL>'.\n"
     ]
    }
   ],
   "source": [
    "import gtpyhop\n",
    "the_domain = gtpyhop.Domain(\"blocksworld\")"
   ]
  },
  {
   "cell_type": "code",
   "execution_count": 3,
   "id": "36543bba",
   "metadata": {},
   "outputs": [],
   "source": [
    "# from pyhop import hop\n",
    "from methods import *\n",
    "from actions import *\n",
    "# state1.pos={'a':'b', 'b':'table', 'c':'table'}\n",
    "# state1.clear={'c':True, 'b':False,'a':True}\n",
    "# state1.holding=False\n",
    "gtpyhop.current_domain = the_domain\n"
   ]
  },
  {
   "cell_type": "code",
   "execution_count": 8,
   "id": "4a62f566",
   "metadata": {
    "scrolled": true
   },
   "outputs": [
    {
     "name": "stdout",
     "output_type": "stream",
     "text": [
      "\n",
      "Domain name: blocksworld\n",
      "-- Actions: pickup, unstack, putdown, stack\n",
      "-- There are no commands --\n",
      "\n",
      "Task name:         Relevant task methods:\n",
      "---------------    ----------------------\n",
      "_verify_g          _m_verify_g\n",
      "_verify_mg         _m_verify_mg\n",
      "achieve            m_moveblocks\n",
      "take               m_take\n",
      "put                m_put\n",
      "\n",
      "-- There are no unigoal methods --\n",
      "-- There are no multigoal methods --\n"
     ]
    }
   ],
   "source": [
    "gtpyhop.print_domain()"
   ]
  },
  {
   "cell_type": "code",
   "execution_count": 4,
   "id": "d3a2ced8",
   "metadata": {},
   "outputs": [],
   "source": [
    "def createstate(name, state, isinit):\n",
    "    if isinit:\n",
    "        state1 = gtpyhop.State(name)\n",
    "    else:\n",
    "        state1 = gtpyhop.Multigoal(name)\n",
    "        \n",
    "    state1.pos = {}\n",
    "    if isinit:\n",
    "        state1.holding={'hand':False}\n",
    "        state1.clear = {}\n",
    "        for obj in domprob.worldobjects():\n",
    "            if (obj != \"on\") & (obj != \"on-table\") & (obj != \"holding\") & (obj != \"clear\") & (obj != \"handempty\"):\n",
    "                if obj not in state1.clear:\n",
    "                    state1.clear[obj] = False\n",
    "\n",
    "    for st in state:\n",
    "        if st.predicate[0] == \"on-table\":\n",
    "            state1.pos[st.predicate[1]] = \"table\"\n",
    "        elif st.predicate[0] == \"on\":\n",
    "            state1.pos[st.predicate[1]] = st.predicate[2]\n",
    "        elif (st.predicate[0] == \"clear\") & (isinit):\n",
    "            state1.clear[st.predicate[1]] = True\n",
    "\n",
    "\n",
    "\n",
    "    return state1"
   ]
  },
  {
   "cell_type": "code",
   "execution_count": 5,
   "id": "8d4a00c2",
   "metadata": {},
   "outputs": [],
   "source": [
    "state1 = createstate(\"state1\", domprob.initialstate(), True)\n",
    "goal1 = createstate(\"goal1\", domprob.goals(), False)"
   ]
  },
  {
   "cell_type": "code",
   "execution_count": 6,
   "id": "bc8d22aa",
   "metadata": {},
   "outputs": [
    {
     "name": "stdout",
     "output_type": "stream",
     "text": [
      "State state1:\n",
      "-------------\n",
      "  - pos = {'b5': 'b17', 'b2': 'b15', 'b3': 'table', 'b1': 'table', 'b8': 'table', 'b14': 'table', 'b18': 'table', 'b15': 'b10', 'b16': 'b11', 'b7': 'b3', 'b12': 'b16', 'b6': 'b14', 'b10': 'b1', 'b11': 'b4', 'b17': 'table', 'b13': 'table', 'b9': 'b7', 'b4': 'b6'}\n",
      "  - holding = {'hand': False}\n",
      "  - clear = {'b7': False, 'b13': True, 'b1': False, 'b2': True, 'b4': False, 'b12': True, 'b17': False, 'b18': True, 'b3': False, 'b15': False, 'b6': False, 'b16': False, 'b14': False, 'b10': False, 'b5': True, 'b8': True, 'b9': True, 'b11': False}\n",
      "\n"
     ]
    }
   ],
   "source": [
    "state1.display()"
   ]
  },
  {
   "cell_type": "code",
   "execution_count": 7,
   "id": "638bea10",
   "metadata": {},
   "outputs": [
    {
     "name": "stdout",
     "output_type": "stream",
     "text": [
      "Multigoal goal1:\n",
      "----------------\n",
      "  - pos = {'b17': 'b9', 'b2': 'table', 'b12': 'b15', 'b7': 'table', 'b16': 'b13', 'b18': 'b7', 'b3': 'b16', 'b13': 'b6', 'b8': 'b18', 'b11': 'b2', 'b4': 'b1', 'b14': 'b11', 'b9': 'table', 'b5': 'b3', 'b15': 'b17', 'b10': 'b12', 'b6': 'b14', 'b1': 'table'}\n",
      "\n"
     ]
    }
   ],
   "source": [
    "goal1.display()"
   ]
  },
  {
   "cell_type": "code",
   "execution_count": 8,
   "id": "93a4ba8c",
   "metadata": {},
   "outputs": [],
   "source": [
    "import time"
   ]
  },
  {
   "cell_type": "code",
   "execution_count": 1,
   "id": "12ab7684",
   "metadata": {},
   "outputs": [
    {
     "ename": "NameError",
     "evalue": "name 'gtpyhop' is not defined",
     "output_type": "error",
     "traceback": [
      "\u001b[1;31m---------------------------------------------------------------------------\u001b[0m",
      "\u001b[1;31mNameError\u001b[0m                                 Traceback (most recent call last)",
      "\u001b[1;32m~\\AppData\\Local\\Temp/ipykernel_19496/1116075922.py\u001b[0m in \u001b[0;36m<module>\u001b[1;34m\u001b[0m\n\u001b[1;32m----> 1\u001b[1;33m \u001b[0mgtpyhop\u001b[0m\u001b[1;33m.\u001b[0m\u001b[0mverbose\u001b[0m \u001b[1;33m=\u001b[0m \u001b[1;36m2\u001b[0m\u001b[1;33m\u001b[0m\u001b[1;33m\u001b[0m\u001b[0m\n\u001b[0m\u001b[0;32m      2\u001b[0m \u001b[1;32mfor\u001b[0m \u001b[0mi\u001b[0m \u001b[1;32min\u001b[0m \u001b[0mrange\u001b[0m\u001b[1;33m(\u001b[0m\u001b[1;36m10\u001b[0m\u001b[1;33m)\u001b[0m\u001b[1;33m:\u001b[0m\u001b[1;33m\u001b[0m\u001b[1;33m\u001b[0m\u001b[0m\n\u001b[0;32m      3\u001b[0m     \u001b[0mdomprob\u001b[0m \u001b[1;33m=\u001b[0m \u001b[0mpddlpy\u001b[0m\u001b[1;33m.\u001b[0m\u001b[0mDomainProblem\u001b[0m\u001b[1;33m(\u001b[0m\u001b[1;34m'domain.pddl'\u001b[0m\u001b[1;33m,\u001b[0m \u001b[1;34m'problems/1/problem'\u001b[0m \u001b[1;33m+\u001b[0m \u001b[0mstr\u001b[0m\u001b[1;33m(\u001b[0m\u001b[0mi\u001b[0m\u001b[1;33m+\u001b[0m\u001b[1;36m1\u001b[0m\u001b[1;33m)\u001b[0m \u001b[1;33m+\u001b[0m \u001b[1;34m'.pddl'\u001b[0m\u001b[1;33m)\u001b[0m\u001b[1;33m\u001b[0m\u001b[1;33m\u001b[0m\u001b[0m\n\u001b[0;32m      4\u001b[0m     \u001b[0mstate\u001b[0m \u001b[1;33m=\u001b[0m \u001b[0mcreatestate\u001b[0m\u001b[1;33m(\u001b[0m\u001b[1;34m\"state\"\u001b[0m\u001b[1;33m,\u001b[0m \u001b[0mdomprob\u001b[0m\u001b[1;33m.\u001b[0m\u001b[0minitialstate\u001b[0m\u001b[1;33m(\u001b[0m\u001b[1;33m)\u001b[0m\u001b[1;33m,\u001b[0m \u001b[1;32mTrue\u001b[0m\u001b[1;33m)\u001b[0m\u001b[1;33m\u001b[0m\u001b[1;33m\u001b[0m\u001b[0m\n\u001b[0;32m      5\u001b[0m     \u001b[0mgoal\u001b[0m \u001b[1;33m=\u001b[0m \u001b[0mcreatestate\u001b[0m\u001b[1;33m(\u001b[0m\u001b[1;34m\"goal\"\u001b[0m\u001b[1;33m,\u001b[0m \u001b[0mdomprob\u001b[0m\u001b[1;33m.\u001b[0m\u001b[0mgoals\u001b[0m\u001b[1;33m(\u001b[0m\u001b[1;33m)\u001b[0m\u001b[1;33m,\u001b[0m \u001b[1;32mFalse\u001b[0m\u001b[1;33m)\u001b[0m\u001b[1;33m\u001b[0m\u001b[1;33m\u001b[0m\u001b[0m\n",
      "\u001b[1;31mNameError\u001b[0m: name 'gtpyhop' is not defined"
     ]
    }
   ],
   "source": [
    "gtpyhop.verbose = 2\n",
    "for i in range(10):\n",
    "    domprob = pddlpy.DomainProblem('domain.pddl', 'problems/1/problem' + str(i+1) + '.pddl')\n",
    "    state = createstate(\"state\", domprob.initialstate(), True)\n",
    "    goal = createstate(\"goal\", domprob.goals(), False)\n",
    "#     state.display()\n",
    "#     goal.display()\n",
    "    start = time.perf_counter()\n",
    "#     for j in range(100):\n",
    "    plan = gtpyhop.find_plan(state,[('achieve', goal)])\n",
    "#     gtpyhop.verbose = 1\n",
    "#     plan = gtpyhop.find_plan(state,[('achieve', goal)])\n",
    "    stop = time.perf_counter()\n",
    "    print(\"Problem #\"  + str(len(goal.pos)) + \"-\" + str(i + 1) + \n",
    "          \"\\nPlan length:\" + str(len(plan)) + \"\\ntime: \"+ str((stop - start)))\n",
    "\n",
    "    print('----------------------')\n",
    "gtpyhop.verbose = 1"
   ]
  },
  {
   "cell_type": "code",
   "execution_count": null,
   "id": "2787e8d7",
   "metadata": {},
   "outputs": [],
   "source": []
  }
 ],
 "metadata": {
  "kernelspec": {
   "display_name": "Python 3 (ipykernel)",
   "language": "python",
   "name": "python3"
  },
  "language_info": {
   "codemirror_mode": {
    "name": "ipython",
    "version": 3
   },
   "file_extension": ".py",
   "mimetype": "text/x-python",
   "name": "python",
   "nbconvert_exporter": "python",
   "pygments_lexer": "ipython3",
   "version": "3.10.0"
  }
 },
 "nbformat": 4,
 "nbformat_minor": 5
}
